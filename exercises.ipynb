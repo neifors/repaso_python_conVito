{
 "metadata": {
  "language_info": {
   "codemirror_mode": {
    "name": "ipython",
    "version": 3
   },
   "file_extension": ".py",
   "mimetype": "text/x-python",
   "name": "python",
   "nbconvert_exporter": "python",
   "pygments_lexer": "ipython3",
   "version": "3.8.8-final"
  },
  "orig_nbformat": 2,
  "kernelspec": {
   "name": "python3",
   "display_name": "Python 3.8.8 64-bit",
   "metadata": {
    "interpreter": {
     "hash": "865263624cd42bc4f84ea7f202aa1cbc30e7e89dba1a7c5980cb9eafff073659"
    }
   }
  }
 },
 "nbformat": 4,
 "nbformat_minor": 2,
 "cells": [
  {
   "cell_type": "code",
   "execution_count": 121,
   "metadata": {},
   "outputs": [],
   "source": [
    "mañana = [{\n",
    "\t\"name\": \"Patricia\",\n",
    "\t\"id\" :  \"001\"\n",
    "},\n",
    "{\n",
    "\t\"name\": \"Nicole\",\n",
    "\t\"id\" :  \"002\"\n",
    "},\n",
    "{\n",
    "\t\"name\": \"Javier\",\n",
    "\t\"id\" :  \"003\"\n",
    "},\n",
    "{\n",
    "\t\"name\": \"Verónica\",\n",
    "\t\"id\" :  \"004\"\n",
    "},\n",
    "{\n",
    "\t\"name\": \"Guillermo\",\n",
    "\t\"id\" :  \"005\"\n",
    "},\n",
    "{\n",
    "\t\"name\": \"Pablo\",\n",
    "\t\"id\" :  \"006\"\n",
    "},\n",
    "{\n",
    "\t\"name\": \"Patricia\",\n",
    "\t\"id\" :  \"007\"\n",
    "},\n",
    "{\n",
    "\t\"name\": \"Patricia\",\n",
    "\t\"id\" :  \"008\"\n",
    "},\n",
    "\n",
    "]\n",
    "\n",
    "tarde =[\n",
    "{\n",
    "\t\"name\": \"Germán\",\n",
    "\t\"id\" :  \"001\"\n",
    "},\n",
    "{\n",
    "\t\"name\": \"Sara\",\n",
    "\t\"id\" :  \"002\"\n",
    "},\n",
    "{\n",
    "\t\"name\": \"Jorge\",\n",
    "\t\"id\" :  \"003\"\n",
    "},\n",
    "{\n",
    "\t\"name\": \"María\",\n",
    "\t\"id\" :  \"004\"\n",
    "},\n",
    "{\n",
    "\t\"name\": \"Alicia\",\n",
    "\t\"id\" :  \"005\"\n",
    "},\n",
    "{\n",
    "\t\"name\": \"Hernesto\",\n",
    "\t\"id\" :  \"006\"\n",
    "},]"
   ]
  },
  {
   "cell_type": "code",
   "execution_count": 122,
   "metadata": {},
   "outputs": [
    {
     "output_type": "execute_result",
     "data": {
      "text/plain": [
       "[{'name': 'Patricia', 'id': '001'},\n",
       " {'name': 'Nicole', 'id': '002'},\n",
       " {'name': 'Javier', 'id': '003'},\n",
       " {'name': 'Verónica', 'id': '004'},\n",
       " {'name': 'Guillermo', 'id': '005'},\n",
       " {'name': 'Pablo', 'id': '006'},\n",
       " {'name': 'Patricia', 'id': '007'},\n",
       " {'name': 'Patricia', 'id': '008'}]"
      ]
     },
     "metadata": {},
     "execution_count": 122
    }
   ],
   "source": [
    "mañana"
   ]
  },
  {
   "cell_type": "code",
   "execution_count": 123,
   "metadata": {},
   "outputs": [
    {
     "output_type": "execute_result",
     "data": {
      "text/plain": [
       "[{'name': 'Germán', 'id': '001'},\n",
       " {'name': 'Sara', 'id': '002'},\n",
       " {'name': 'Jorge', 'id': '003'},\n",
       " {'name': 'María', 'id': '004'},\n",
       " {'name': 'Alicia', 'id': '005'},\n",
       " {'name': 'Hernesto', 'id': '006'}]"
      ]
     },
     "metadata": {},
     "execution_count": 123
    }
   ],
   "source": [
    "tarde"
   ]
  },
  {
   "source": [
    "## Ejercicio 1: \n",
    "### Agregar al curso de la tarde los siguiente lista de alumnos, recordad que no pueden tener los mismos id's:\n",
    "###\tnew_students = [\"Miguel\", \"Pedro\", \"Sandra\"]\n",
    "###\t* Debe trabajarse con una lista dada"
   ],
   "cell_type": "markdown",
   "metadata": {}
  },
  {
   "cell_type": "code",
   "execution_count": 124,
   "metadata": {},
   "outputs": [],
   "source": [
    "morning_list = [\"Patricia\", \"Nicole\", \"Verónica\", \"Javier\", \"Guillermo\", \"Javier\", \"Pablo\"]"
   ]
  },
  {
   "cell_type": "code",
   "execution_count": 125,
   "metadata": {},
   "outputs": [],
   "source": [
    "evening_list = [\"Germán\", \"Sara\", \"José\", \"Claudio\", \"Rubén\", \"Sandra\"]"
   ]
  },
  {
   "cell_type": "code",
   "execution_count": 126,
   "metadata": {},
   "outputs": [],
   "source": [
    "new_students = [\"Miguel\", \"Pedro\", \"Sandra\"]"
   ]
  },
  {
   "cell_type": "code",
   "execution_count": 127,
   "metadata": {},
   "outputs": [
    {
     "output_type": "execute_result",
     "data": {
      "text/plain": [
       "8"
      ]
     },
     "metadata": {},
     "execution_count": 127
    }
   ],
   "source": [
    "int(mañana[-1]['id'])"
   ]
  },
  {
   "cell_type": "code",
   "execution_count": 128,
   "metadata": {},
   "outputs": [],
   "source": [
    "def id_asigner(group, new_students):\n",
    "    last_id = int(group[-1]['id'])\n",
    "    for student in new_students:\n",
    "        last_id += 1\n",
    "        new_st_dict = {'name':student,'id':('00'+str(last_id)) if len(str(last_id))==1 else ('0'+str(last_id))}\n",
    "        group.append(new_st_dict)"
   ]
  },
  {
   "cell_type": "code",
   "execution_count": 129,
   "metadata": {},
   "outputs": [],
   "source": [
    "id_asigner(mañana, new_students)"
   ]
  },
  {
   "cell_type": "code",
   "execution_count": 130,
   "metadata": {},
   "outputs": [
    {
     "output_type": "execute_result",
     "data": {
      "text/plain": [
       "[{'name': 'Patricia', 'id': '001'},\n",
       " {'name': 'Nicole', 'id': '002'},\n",
       " {'name': 'Javier', 'id': '003'},\n",
       " {'name': 'Verónica', 'id': '004'},\n",
       " {'name': 'Guillermo', 'id': '005'},\n",
       " {'name': 'Pablo', 'id': '006'},\n",
       " {'name': 'Patricia', 'id': '007'},\n",
       " {'name': 'Patricia', 'id': '008'},\n",
       " {'name': 'Miguel', 'id': '009'},\n",
       " {'name': 'Pedro', 'id': '010'},\n",
       " {'name': 'Sandra', 'id': '011'}]"
      ]
     },
     "metadata": {},
     "execution_count": 130
    }
   ],
   "source": [
    "mañana"
   ]
  },
  {
   "source": [
    "## Ejercicio 2: \n",
    "### Crear una función que permita verificar que ningún id sea igual a otro"
   ],
   "cell_type": "markdown",
   "metadata": {}
  },
  {
   "cell_type": "code",
   "execution_count": 131,
   "metadata": {},
   "outputs": [],
   "source": [
    "def id_controler(group):\n",
    "    id_collector = []\n",
    "    for student in group:\n",
    "        if not student['id'] in id_collector:\n",
    "            id_collector.append(student['id'])\n",
    "        else:\n",
    "            print(f'El id de {student} está ya asignado a un alumno.')\n",
    "            return\n",
    "    print('Todo correcto')"
   ]
  },
  {
   "cell_type": "code",
   "execution_count": 132,
   "metadata": {},
   "outputs": [
    {
     "output_type": "stream",
     "name": "stdout",
     "text": [
      "Todo correcto\n"
     ]
    }
   ],
   "source": [
    "id_controler(mañana)"
   ]
  },
  {
   "source": [
    "## Ejercicio 4: \n",
    "### Agregar a los id de los alumnos por la mañana la letra \"M\" y a los alumnos por la tarde la letra \"T\""
   ],
   "cell_type": "markdown",
   "metadata": {}
  },
  {
   "cell_type": "code",
   "execution_count": 133,
   "metadata": {},
   "outputs": [],
   "source": [
    "for student in mañana:\n",
    "    student['id'] += 'M'"
   ]
  },
  {
   "cell_type": "code",
   "execution_count": 134,
   "metadata": {},
   "outputs": [
    {
     "output_type": "execute_result",
     "data": {
      "text/plain": [
       "[{'name': 'Patricia', 'id': '001M'},\n",
       " {'name': 'Nicole', 'id': '002M'},\n",
       " {'name': 'Javier', 'id': '003M'},\n",
       " {'name': 'Verónica', 'id': '004M'},\n",
       " {'name': 'Guillermo', 'id': '005M'},\n",
       " {'name': 'Pablo', 'id': '006M'},\n",
       " {'name': 'Patricia', 'id': '007M'},\n",
       " {'name': 'Patricia', 'id': '008M'},\n",
       " {'name': 'Miguel', 'id': '009M'},\n",
       " {'name': 'Pedro', 'id': '010M'},\n",
       " {'name': 'Sandra', 'id': '011M'}]"
      ]
     },
     "metadata": {},
     "execution_count": 134
    }
   ],
   "source": [
    "mañana"
   ]
  },
  {
   "cell_type": "code",
   "execution_count": 135,
   "metadata": {},
   "outputs": [],
   "source": [
    "for student in tarde:\n",
    "    student['id'] += 'T'"
   ]
  },
  {
   "cell_type": "code",
   "execution_count": 136,
   "metadata": {},
   "outputs": [
    {
     "output_type": "execute_result",
     "data": {
      "text/plain": [
       "[{'name': 'Germán', 'id': '001T'},\n",
       " {'name': 'Sara', 'id': '002T'},\n",
       " {'name': 'Jorge', 'id': '003T'},\n",
       " {'name': 'María', 'id': '004T'},\n",
       " {'name': 'Alicia', 'id': '005T'},\n",
       " {'name': 'Hernesto', 'id': '006T'}]"
      ]
     },
     "metadata": {},
     "execution_count": 136
    }
   ],
   "source": [
    "tarde"
   ]
  },
  {
   "source": [
    "## Ejercicio 5: \n",
    "### Crear una nueva lista con todos los estudiantes de Python"
   ],
   "cell_type": "markdown",
   "metadata": {}
  },
  {
   "cell_type": "code",
   "execution_count": 137,
   "metadata": {},
   "outputs": [],
   "source": [
    "python_students = mañana + tarde"
   ]
  },
  {
   "cell_type": "code",
   "execution_count": 138,
   "metadata": {},
   "outputs": [
    {
     "output_type": "execute_result",
     "data": {
      "text/plain": [
       "[{'name': 'Patricia', 'id': '001M'},\n",
       " {'name': 'Nicole', 'id': '002M'},\n",
       " {'name': 'Javier', 'id': '003M'},\n",
       " {'name': 'Verónica', 'id': '004M'},\n",
       " {'name': 'Guillermo', 'id': '005M'},\n",
       " {'name': 'Pablo', 'id': '006M'},\n",
       " {'name': 'Patricia', 'id': '007M'},\n",
       " {'name': 'Patricia', 'id': '008M'},\n",
       " {'name': 'Miguel', 'id': '009M'},\n",
       " {'name': 'Pedro', 'id': '010M'},\n",
       " {'name': 'Sandra', 'id': '011M'},\n",
       " {'name': 'Germán', 'id': '001T'},\n",
       " {'name': 'Sara', 'id': '002T'},\n",
       " {'name': 'Jorge', 'id': '003T'},\n",
       " {'name': 'María', 'id': '004T'},\n",
       " {'name': 'Alicia', 'id': '005T'},\n",
       " {'name': 'Hernesto', 'id': '006T'}]"
      ]
     },
     "metadata": {},
     "execution_count": 138
    }
   ],
   "source": [
    "python_students"
   ]
  },
  {
   "source": [
    "## Ejercicio 6: \n",
    "### De la última lista creada dividir por género"
   ],
   "cell_type": "markdown",
   "metadata": {}
  },
  {
   "cell_type": "code",
   "execution_count": 139,
   "metadata": {},
   "outputs": [],
   "source": [
    "course_1 = [{\n",
    "\t\"name\": \"Patricia\",\n",
    "\t\"id\" :  \"1\",\n",
    "    \"gender\": \"F\"\n",
    "},\n",
    "{\n",
    "\t\"name\": \"Nicole\",\n",
    "\t\"id\" :  \"2\",\n",
    "    \"gender\": \"F\"\n",
    "},\n",
    "{\n",
    "\t\"name\": \"Javier\",\n",
    "\t\"id\" :  \"3\",\n",
    "    \"gender\": \"M\"\n",
    "},\n",
    "{\n",
    "\t\"name\": \"Verónica\",\n",
    "\t\"id\" :  \"4\",\n",
    "    \"gender\": \"F\"\n",
    "},\n",
    "{\n",
    "\t\"name\": \"Guillermo\",\n",
    "\t\"id\" :  \"5\",\n",
    "    \"gender\": \"M\"\n",
    "},\n",
    "{\n",
    "\t\"name\": \"Pablo\",\n",
    "\t\"id\" :  \"6\",\n",
    "    \"gender\": \"M\"\n",
    "},\n",
    "{\n",
    "\t\"name\": \"Patricia\",\n",
    "\t\"id\" :  \"7\",\n",
    "    \"gender\": \"F\"\n",
    "},\n",
    "{\n",
    "\t\"name\": \"Patricia\",\n",
    "\t\"id\" :  \"8\",\n",
    "    \"gender\": \"F\"\n",
    "},\n",
    "\n",
    "]\n",
    "course_2 =[\n",
    "{\n",
    "\t\"name\": \"Germán\",\n",
    "\t\"id\" :  \"1\",\n",
    "    \"gender\": \"M\"\n",
    "},\n",
    "{\n",
    "\t\"name\": \"Sara\",\n",
    "\t\"id\" :  \"2\",\n",
    "    \"gender\": \"F\"\n",
    "},\n",
    "{\n",
    "\t\"name\": \"Jorge\",\n",
    "\t\"id\" :  \"3\",\n",
    "    \"gender\": \"M\"\n",
    "},\n",
    "{\n",
    "\t\"name\": \"María\",\n",
    "\t\"id\" :  \"4\",\n",
    "    \"gender\": \"F\"\n",
    "},\n",
    "{\n",
    "\t\"name\": \"Alicia\",\n",
    "\t\"id\" :  \"5\",\n",
    "    \"gender\": \"F\"\n",
    "},\n",
    "{\n",
    "\t\"name\": \"Hernesto\",\n",
    "\t\"id\" :  \"6\",\n",
    "    \"gender\": \"M\"\n",
    "},]"
   ]
  },
  {
   "cell_type": "code",
   "execution_count": 140,
   "metadata": {},
   "outputs": [
    {
     "output_type": "execute_result",
     "data": {
      "text/plain": [
       "[{'name': 'Patricia', 'id': '1', 'gender': 'F'},\n",
       " {'name': 'Nicole', 'id': '2', 'gender': 'F'},\n",
       " {'name': 'Javier', 'id': '3', 'gender': 'M'},\n",
       " {'name': 'Verónica', 'id': '4', 'gender': 'F'},\n",
       " {'name': 'Guillermo', 'id': '5', 'gender': 'M'},\n",
       " {'name': 'Pablo', 'id': '6', 'gender': 'M'},\n",
       " {'name': 'Patricia', 'id': '7', 'gender': 'F'},\n",
       " {'name': 'Patricia', 'id': '8', 'gender': 'F'}]"
      ]
     },
     "metadata": {},
     "execution_count": 140
    }
   ],
   "source": [
    "course_1"
   ]
  },
  {
   "cell_type": "code",
   "execution_count": 141,
   "metadata": {},
   "outputs": [
    {
     "output_type": "execute_result",
     "data": {
      "text/plain": [
       "[{'name': 'Germán', 'id': '1', 'gender': 'M'},\n",
       " {'name': 'Sara', 'id': '2', 'gender': 'F'},\n",
       " {'name': 'Jorge', 'id': '3', 'gender': 'M'},\n",
       " {'name': 'María', 'id': '4', 'gender': 'F'},\n",
       " {'name': 'Alicia', 'id': '5', 'gender': 'F'},\n",
       " {'name': 'Hernesto', 'id': '6', 'gender': 'M'}]"
      ]
     },
     "metadata": {},
     "execution_count": 141
    }
   ],
   "source": [
    "course_2"
   ]
  },
  {
   "cell_type": "code",
   "execution_count": 142,
   "metadata": {},
   "outputs": [
    {
     "output_type": "execute_result",
     "data": {
      "text/plain": [
       "[{'name': 'Patricia', 'id': '1', 'gender': 'F'},\n",
       " {'name': 'Nicole', 'id': '2', 'gender': 'F'},\n",
       " {'name': 'Javier', 'id': '3', 'gender': 'M'},\n",
       " {'name': 'Verónica', 'id': '4', 'gender': 'F'},\n",
       " {'name': 'Guillermo', 'id': '5', 'gender': 'M'},\n",
       " {'name': 'Pablo', 'id': '6', 'gender': 'M'},\n",
       " {'name': 'Patricia', 'id': '7', 'gender': 'F'},\n",
       " {'name': 'Patricia', 'id': '8', 'gender': 'F'},\n",
       " {'name': 'Germán', 'id': '1', 'gender': 'M'},\n",
       " {'name': 'Sara', 'id': '2', 'gender': 'F'},\n",
       " {'name': 'Jorge', 'id': '3', 'gender': 'M'},\n",
       " {'name': 'María', 'id': '4', 'gender': 'F'},\n",
       " {'name': 'Alicia', 'id': '5', 'gender': 'F'},\n",
       " {'name': 'Hernesto', 'id': '6', 'gender': 'M'}]"
      ]
     },
     "metadata": {},
     "execution_count": 142
    }
   ],
   "source": [
    "python_students = course_1+course_2\n",
    "python_students"
   ]
  },
  {
   "cell_type": "code",
   "execution_count": 143,
   "metadata": {},
   "outputs": [],
   "source": [
    "def gender_divided(group):\n",
    "    female = []\n",
    "    male = []\n",
    "    for student in group:\n",
    "        if student['gender'] == 'F':\n",
    "            female.append(student)\n",
    "        else:\n",
    "            male.append(student)\n",
    "    return {'male': male, 'female':female}"
   ]
  },
  {
   "cell_type": "code",
   "execution_count": 144,
   "metadata": {},
   "outputs": [
    {
     "output_type": "stream",
     "name": "stdout",
     "text": [
      "\nMALE\n\nJavier\nGuillermo\nPablo\nGermán\nJorge\nHernesto\n\nFEMALE\n\nPatricia\nNicole\nVerónica\nPatricia\nPatricia\nSara\nMaría\nAlicia\n"
     ]
    }
   ],
   "source": [
    "divided_python_students = gender_divided(python_students)\n",
    "for gender in divided_python_students:\n",
    "    print(f'\\n{gender.upper()}\\n')\n",
    "    for student in divided_python_students[gender]:\n",
    "        print(student['name'])"
   ]
  },
  {
   "source": [
    "## Ejercicio 7: \n",
    "### Crear una función que además de agregar la clave courses a cada uno de los estudiantes, se le pueda indicar uno de los cursos matriculados"
   ],
   "cell_type": "markdown",
   "metadata": {}
  },
  {
   "cell_type": "code",
   "execution_count": 145,
   "metadata": {},
   "outputs": [],
   "source": [
    "for student in python_students:\n",
    "    student['courses'] = []"
   ]
  },
  {
   "cell_type": "code",
   "execution_count": 146,
   "metadata": {},
   "outputs": [
    {
     "output_type": "execute_result",
     "data": {
      "text/plain": [
       "[{'name': 'Patricia', 'id': '1', 'gender': 'F', 'courses': []},\n",
       " {'name': 'Nicole', 'id': '2', 'gender': 'F', 'courses': []},\n",
       " {'name': 'Javier', 'id': '3', 'gender': 'M', 'courses': []},\n",
       " {'name': 'Verónica', 'id': '4', 'gender': 'F', 'courses': []},\n",
       " {'name': 'Guillermo', 'id': '5', 'gender': 'M', 'courses': []},\n",
       " {'name': 'Pablo', 'id': '6', 'gender': 'M', 'courses': []},\n",
       " {'name': 'Patricia', 'id': '7', 'gender': 'F', 'courses': []},\n",
       " {'name': 'Patricia', 'id': '8', 'gender': 'F', 'courses': []},\n",
       " {'name': 'Germán', 'id': '1', 'gender': 'M', 'courses': []},\n",
       " {'name': 'Sara', 'id': '2', 'gender': 'F', 'courses': []},\n",
       " {'name': 'Jorge', 'id': '3', 'gender': 'M', 'courses': []},\n",
       " {'name': 'María', 'id': '4', 'gender': 'F', 'courses': []},\n",
       " {'name': 'Alicia', 'id': '5', 'gender': 'F', 'courses': []},\n",
       " {'name': 'Hernesto', 'id': '6', 'gender': 'M', 'courses': []}]"
      ]
     },
     "metadata": {},
     "execution_count": 146
    }
   ],
   "source": [
    "python_students"
   ]
  },
  {
   "cell_type": "code",
   "execution_count": 147,
   "metadata": {},
   "outputs": [],
   "source": [
    "for student in python_students:\n",
    "    student['courses'].append('Python')"
   ]
  },
  {
   "cell_type": "code",
   "execution_count": 148,
   "metadata": {},
   "outputs": [
    {
     "output_type": "execute_result",
     "data": {
      "text/plain": [
       "[{'name': 'Patricia', 'id': '1', 'gender': 'F', 'courses': ['Python']},\n",
       " {'name': 'Nicole', 'id': '2', 'gender': 'F', 'courses': ['Python']},\n",
       " {'name': 'Javier', 'id': '3', 'gender': 'M', 'courses': ['Python']},\n",
       " {'name': 'Verónica', 'id': '4', 'gender': 'F', 'courses': ['Python']},\n",
       " {'name': 'Guillermo', 'id': '5', 'gender': 'M', 'courses': ['Python']},\n",
       " {'name': 'Pablo', 'id': '6', 'gender': 'M', 'courses': ['Python']},\n",
       " {'name': 'Patricia', 'id': '7', 'gender': 'F', 'courses': ['Python']},\n",
       " {'name': 'Patricia', 'id': '8', 'gender': 'F', 'courses': ['Python']},\n",
       " {'name': 'Germán', 'id': '1', 'gender': 'M', 'courses': ['Python']},\n",
       " {'name': 'Sara', 'id': '2', 'gender': 'F', 'courses': ['Python']},\n",
       " {'name': 'Jorge', 'id': '3', 'gender': 'M', 'courses': ['Python']},\n",
       " {'name': 'María', 'id': '4', 'gender': 'F', 'courses': ['Python']},\n",
       " {'name': 'Alicia', 'id': '5', 'gender': 'F', 'courses': ['Python']},\n",
       " {'name': 'Hernesto', 'id': '6', 'gender': 'M', 'courses': ['Python']}]"
      ]
     },
     "metadata": {},
     "execution_count": 148
    }
   ],
   "source": [
    "python_students"
   ]
  },
  {
   "cell_type": "code",
   "execution_count": null,
   "metadata": {},
   "outputs": [],
   "source": []
  }
 ]
}